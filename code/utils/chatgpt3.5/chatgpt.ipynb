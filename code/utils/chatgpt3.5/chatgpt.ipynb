{
 "cells": [
  {
   "cell_type": "code",
   "execution_count": 3,
   "metadata": {},
   "outputs": [],
   "source": [
    "import openai\n",
    "\n",
    "# openai.api_base = \"https://api.openai.com/v1\" # 换成代理，一定要加v1\n",
    "openai.api_base = \"https://openkey.cloud/v1\" # 换成代理，一定要加v1\n",
    "# openai.api_key = \"API_KEY\"\n",
    "openai.api_key = \"sk-J6LW3tnRjWJhZtQiB69bE9C3E7554594A6F45f21884a0a7a\"\n"
   ]
  },
  {
   "cell_type": "code",
   "execution_count": 16,
   "metadata": {},
   "outputs": [],
   "source": [
    "PROMPT_TEMPLATE='''Given a sentence and some entities connnected by periods, you are required to ask some relevant questions about the specified entities involved in the sentence, so that the questions can help to verify the factuality of the sentence.\n",
    "Questions may involve basic attributes such as colors, actions mentioned in the sentence. Do not ask questions involving object counts or the existence of object.\n",
    "When asking questions about attributes, try to ask simple questions that only involve one entity. \n",
    "When asking questions about positional relationships, must provide specific positional relationships between objects or the positional relationships of objects in the image.\n",
    "Ask questions that can be easily decided visually. Do not ask questions that require complex reasoning.\n",
    "Do not ask semantically similar questions. Do not ask questions only about scenes or places.\n",
    "Do not ask questions about uncertain or conjecture parts of the sentence, for example, the parts described with \"maybe\" or \"likely\", etc.\n",
    "It is no need to cover all the specified entities. If there is no question to ask, simply output a 'None'.\n",
    "When asking questions, do not assume the claims in the description as true in advance. Only ask questions relevant to the information in the sentence.\n",
    "Only ask questions about common, specific and concrete entities. The entities involved in the questions are limited to the range within the given entities.\n",
    "Output only one question in each line. For each line, first output the question, then a single '&', and finally entities involved in the question, still connected by periods if multiple entities are involved. The order of entities needs to be consistent with the order in which they appear in the questions.\n",
    "\n",
    "Examples:\n",
    "Sentence:\n",
    "There are one black dog and two white cats in the image.\n",
    "\n",
    "Entities:\n",
    "dog.cat\n",
    "\n",
    "Questions:\n",
    "What color is the cat?&cat\n",
    "What color is the dog?&dog\n",
    "\n",
    "Sentence:\n",
    "The man is wearing a baseball cap and appears to be smoking.\n",
    "\n",
    "Entities:\n",
    "man\n",
    "\n",
    "Questions:\n",
    "What is the man wearing?&man\n",
    "What is the man doing?&man\n",
    "\n",
    "Sentence:\n",
    "The image depicts a busy kitchen, with a man in a white apron. The man is standing in the middle of the kitchen.\n",
    "\n",
    "Entities:\n",
    "kitchen.man\n",
    "\n",
    "Questions:\n",
    "What does the man wear?&man\n",
    "Is the man standing in the middle of the kitchen?&man.kitchen\n",
    "\n",
    "Sentence:\n",
    "The trash can is under the cup in the image.\n",
    "\n",
    "Entities:\n",
    "trash can.cup\n",
    "\n",
    "Questions:\n",
    "Is the trash can under the cup in the image?&trash can.cup\n",
    "\n",
    "Sentence:\n",
    "The white mouse is on the left of the keyboard.\n",
    "\n",
    "Entities:\n",
    "mouse.keyboard\n",
    "\n",
    "Questions:\n",
    "What color is the mouse?&mouse\n",
    "Is the white mouse on the left of the keyboard?&mouse.keyboard\n",
    "\n",
    "Sentence:\n",
    "{sent}\n",
    "\n",
    "Entities:\n",
    "{entity}\n",
    "\n",
    "Questions:'''"
   ]
  },
  {
   "cell_type": "code",
   "execution_count": 17,
   "metadata": {},
   "outputs": [],
   "source": [
    "# import openai\n",
    "\n",
    "# # openai.api_base = \"https://api.openai.com/v1\" # 换成代理，一定要加v1\n",
    "# openai.api_base = \"https://openkey.cloud/v1\" # 换成代理，一定要加v1\n",
    "# # openai.api_key = \"API_KEY\"\n",
    "# openai.api_key = \"sk-J6LW3tnRjWJhZtQiB69bE9C3E7554594A6F45f21884a0a7a\""
   ]
  },
  {
   "cell_type": "code",
   "execution_count": 18,
   "metadata": {},
   "outputs": [],
   "source": [
    "def remove_duplicates(res):\n",
    "    qs_set = set()\n",
    "    output = []\n",
    "    for s in res:\n",
    "        qs, ent = s\n",
    "        if qs in qs_set:\n",
    "            continue\n",
    "        else:\n",
    "            output.append(s)\n",
    "            qs_set.add(qs)\n",
    "    return output"
   ]
  },
  {
   "cell_type": "code",
   "execution_count": 19,
   "metadata": {},
   "outputs": [
    {
     "data": {
      "text/plain": [
       "['What color is the umbrella?&umbrella',\n",
       " 'Is the blue umbrella under the black umbrella in the image?&umbrella.umbrella']"
      ]
     },
     "execution_count": 19,
     "metadata": {},
     "output_type": "execute_result"
    }
   ],
   "source": [
    "sent = \"yes, the blue umbrella is under the black umbrella in the image.\"\n",
    "entity = \"umbrella\"\n",
    "\n",
    "\n",
    "content = PROMPT_TEMPLATE.format(sent=sent, entity=entity)\n",
    "\n",
    "response = openai.ChatCompletion.create(\n",
    "    model='gpt-3.5-turbo',\n",
    "    messages=[{\n",
    "        'role': 'system',\n",
    "        'content': 'You are a language assistant that helps to ask questions about a sentence.'\n",
    "    }, {\n",
    "        'role': 'user',\n",
    "        'content': content,\n",
    "    }],\n",
    "    temperature=0.2,\n",
    "    max_tokens=1024,\n",
    ")\n",
    "res = response['choices'][0]['message']['content'].splitlines()\n",
    "res"
   ]
  },
  {
   "cell_type": "code",
   "execution_count": 7,
   "metadata": {},
   "outputs": [],
   "source": [
    "res = response['choices'][0]['message']['content'].splitlines()\n",
    "res = [s.split('&') for s in res if s.lower() != 'none']\n",
    "entity_list = entity.split('.')\n",
    "\n",
    "res = [s for s in res if len(s)==2]\n",
    "res = remove_duplicates(res)\n",
    "res = [s for s in res if set(s[1].split('.')).issubset(set(entity_list)) ]\n"
   ]
  },
  {
   "cell_type": "code",
   "execution_count": 8,
   "metadata": {},
   "outputs": [
    {
     "data": {
      "text/plain": [
       "[['Is the baby on the right of the dog in the image?', 'baby.dog']]"
      ]
     },
     "execution_count": 8,
     "metadata": {},
     "output_type": "execute_result"
    }
   ],
   "source": [
    "res"
   ]
  },
  {
   "cell_type": "code",
   "execution_count": 4,
   "metadata": {},
   "outputs": [],
   "source": [
    "PROMPT_TEMPLATE='''Given a sentence, extract the entities it contains.\n",
    "Extract the common entities in the singular form.\n",
    "The entities should be general categories.\n",
    "Do not extract entities that are non-specific or abstract.\n",
    "Merge similar entities as much as possible.\n",
    "Output all identified entities in a single line, using \"||\" as a separator between each entity.\n",
    "If there is no entity extracted, the output should be simply \"None\".\n",
    "\n",
    "Examples:\n",
    "Sentence:\n",
    "The image depicts a man laying on the ground next to a motorcycle, which appears to have been involved in a crash.\n",
    "\n",
    "Entities:\n",
    "man||motorcycle\n",
    "\n",
    "Sentence:\n",
    "There are a few people around, including one person standing close to the motorcyclist and another person further away.\n",
    "\n",
    "Entities:\n",
    "person||motorcyclist\n",
    "\n",
    "Sentence:\n",
    "No, there is no car in the image.\n",
    "\n",
    "Entities:\n",
    "car\n",
    "\n",
    "Sentence:\n",
    "The image depicts a group of animals, with a black dog, a white kitten, and a gray cat, sitting on a bed.\n",
    "\n",
    "Entities:\n",
    "dog||cat||bed\n",
    "\n",
    "Sentence:\n",
    "{sentence}\n",
    "\n",
    "Entities:'''"
   ]
  },
  {
   "cell_type": "code",
   "execution_count": 5,
   "metadata": {},
   "outputs": [
    {
     "data": {
      "text/plain": [
       "['umbrella||table']"
      ]
     },
     "execution_count": 5,
     "metadata": {},
     "output_type": "execute_result"
    }
   ],
   "source": [
    "sentence=\"yes, the blue umbrella is under the black table in the image.\"\n",
    "content = PROMPT_TEMPLATE.format(sentence=sentence)\n",
    "\n",
    "response = openai.ChatCompletion.create(\n",
    "    model='gpt-3.5-turbo',\n",
    "    messages=[{\n",
    "        'role': 'system',\n",
    "        'content': 'You are a language assistant that assists in extracting entities from the sentences provided.'\n",
    "    }, {\n",
    "        'role': 'user',\n",
    "        'content': content,\n",
    "    }],\n",
    "    temperature=0.2,\n",
    "    max_tokens=1024,\n",
    ")\n",
    "res = response['choices'][0]['message']['content'].splitlines()\n",
    "res"
   ]
  },
  {
   "cell_type": "code",
   "execution_count": null,
   "metadata": {},
   "outputs": [],
   "source": []
  }
 ],
 "metadata": {
  "kernelspec": {
   "display_name": "corrector",
   "language": "python",
   "name": "python3"
  },
  "language_info": {
   "codemirror_mode": {
    "name": "ipython",
    "version": 3
   },
   "file_extension": ".py",
   "mimetype": "text/x-python",
   "name": "python",
   "nbconvert_exporter": "python",
   "pygments_lexer": "ipython3",
   "version": "3.10.13"
  },
  "orig_nbformat": 4
 },
 "nbformat": 4,
 "nbformat_minor": 2
}
